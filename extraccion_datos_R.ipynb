{
  "nbformat": 4,
  "nbformat_minor": 0,
  "metadata": {
    "colab": {
      "name": "extraccion_datos_R",
      "provenance": [],
      "authorship_tag": "ABX9TyM4/7q3mw/ZTpvO19LDIWAK",
      "include_colab_link": true
    },
    "kernelspec": {
      "name": "ir",
      "display_name": "R"
    }
  },
  "cells": [
    {
      "cell_type": "markdown",
      "metadata": {
        "id": "view-in-github",
        "colab_type": "text"
      },
      "source": [
        "<a href=\"https://colab.research.google.com/github/Eduarmma19/Colab_R/blob/main/extraccion_datos_R.ipynb\" target=\"_parent\"><img src=\"https://colab.research.google.com/assets/colab-badge.svg\" alt=\"Open In Colab\"/></a>"
      ]
    },
    {
      "cell_type": "markdown",
      "metadata": {
        "id": "2f4JC8kZ-MyR"
      },
      "source": [
        "# ¿ Como correr  código de R en Google Colab ? \r\n",
        "R es un ambiente de programación formado por un conjunto de herramientas muy flexibles que pueden ampliarse fácilmente mediante paquetes, librerías o definiendo nuestras propias funciones. Además es gratuito y de código abierto, un Open Source parte del proyecto GNU, como Linux o Mozilla Firefox. \r\n",
        "\r\n",
        "Y para correr el lenguaje en Google Colab que es un ambiente Python, solo debemos copiar y pegar el siguiente link: \r\n",
        "\r\n",
        "https://colab.research.google.com/notebook#create=true&language=r  "
      ]
    },
    {
      "cell_type": "markdown",
      "metadata": {
        "id": "9j4WpjNI_RTL"
      },
      "source": [
        "## ¿Como comprobar que cargo ?\r\n",
        "Copia la siguientes lineas de codigo en el notebook creado y ejecutalo."
      ]
    },
    {
      "cell_type": "code",
      "metadata": {
        "id": "4jA_wRo32hgQ"
      },
      "source": [
        "library(rvest) # Librería encargada del webscrapping\r\n",
        "library(tidyverse) # Manipulación de datos "
      ],
      "execution_count": null,
      "outputs": []
    },
    {
      "cell_type": "code",
      "metadata": {
        "id": "bIr6jXaS2zXx"
      },
      "source": [
        "# Url de la pagina a extraer los datos ( En este caso de Mercado Libre , pantallas para pc)\r\n",
        "url <- \"https://listado.mercadolibre.com.co/pantalla#D[A:Pantalla]\""
      ],
      "execution_count": 4,
      "outputs": []
    },
    {
      "cell_type": "code",
      "metadata": {
        "id": "nj11fTQ_28yh"
      },
      "source": [
        "#Creamos el objeto \r\n",
        "pagina <- read_html(url)"
      ],
      "execution_count": 5,
      "outputs": []
    },
    {
      "cell_type": "code",
      "metadata": {
        "id": "dVYXfMGF3SVl"
      },
      "source": [
        "# Seleccionamos que datos queremos de esas pantallas, en este caso su nombre o titulos del producto\r\n",
        "titulos<-pagina%>%html_nodes(\".ui-search-item__title\")%>%html_text()"
      ],
      "execution_count": 6,
      "outputs": []
    },
    {
      "cell_type": "code",
      "metadata": {
        "id": "I-lhHFD-3kVW"
      },
      "source": [
        "#Creamos un data frame para visualizar los datos mejor \r\n",
        "df = data.frame(producto = titulos)"
      ],
      "execution_count": 8,
      "outputs": []
    },
    {
      "cell_type": "code",
      "metadata": {
        "colab": {
          "base_uri": "https://localhost:8080/",
          "height": 274
        },
        "id": "-JOOeWt_3xWM",
        "outputId": "1b6e44bd-6476-4e82-ef24-367bc37ecc14"
      },
      "source": [
        "head(df)"
      ],
      "execution_count": 9,
      "outputs": [
        {
          "output_type": "display_data",
          "data": {
            "text/plain": [
              "  producto                                                    \n",
              "1 Viewsonic Td2421 24 1080p Monitor De Pantalla Táctil Óptic  \n",
              "2 Monitor Pantalla Curvo 24  1920x1080 Samsung Hdmi Vga 4ms   \n",
              "3 Protector Pantalla Vidrio Templado iPad 7/8 Generación 10.2 \n",
              "4 Panel Protector De Pantalla De Bloqueo De Luz Azul Pc De Ojo\n",
              "5 Radio Carro Bluetooth + Camara Usb Sd Pantalla 7 Hd Mod 2020\n",
              "6 Monitor Pantalla Led Curvo 32'' Full Hd Hdmi 16:9 1920x 1080"
            ],
            "text/latex": "A data.frame: 6 × 1\n\\begin{tabular}{r|l}\n  & producto\\\\\n  & <chr>\\\\\n\\hline\n\t1 & Viewsonic Td2421 24 1080p Monitor De Pantalla Táctil Óptic  \\\\\n\t2 & Monitor Pantalla Curvo 24  1920x1080 Samsung Hdmi Vga 4ms   \\\\\n\t3 & Protector Pantalla Vidrio Templado iPad 7/8 Generación 10.2 \\\\\n\t4 & Panel Protector De Pantalla De Bloqueo De Luz Azul Pc De Ojo\\\\\n\t5 & Radio Carro Bluetooth + Camara Usb Sd Pantalla 7 Hd Mod 2020\\\\\n\t6 & Monitor Pantalla Led Curvo 32'' Full Hd Hdmi 16:9 1920x 1080\\\\\n\\end{tabular}\n",
            "text/markdown": "\nA data.frame: 6 × 1\n\n| <!--/--> | producto &lt;chr&gt; |\n|---|---|\n| 1 | Viewsonic Td2421 24 1080p Monitor De Pantalla Táctil Óptic   |\n| 2 | Monitor Pantalla Curvo 24  1920x1080 Samsung Hdmi Vga 4ms    |\n| 3 | Protector Pantalla Vidrio Templado iPad 7/8 Generación 10.2  |\n| 4 | Panel Protector De Pantalla De Bloqueo De Luz Azul Pc De Ojo |\n| 5 | Radio Carro Bluetooth + Camara Usb Sd Pantalla 7 Hd Mod 2020 |\n| 6 | Monitor Pantalla Led Curvo 32'' Full Hd Hdmi 16:9 1920x 1080 |\n\n",
            "text/html": [
              "<table class=\"dataframe\">\n",
              "<caption>A data.frame: 6 × 1</caption>\n",
              "<thead>\n",
              "\t<tr><th></th><th scope=col>producto</th></tr>\n",
              "\t<tr><th></th><th scope=col>&lt;chr&gt;</th></tr>\n",
              "</thead>\n",
              "<tbody>\n",
              "\t<tr><th scope=row>1</th><td>Viewsonic Td2421 24 1080p Monitor De Pantalla Táctil Óptic  </td></tr>\n",
              "\t<tr><th scope=row>2</th><td>Monitor Pantalla Curvo 24  1920x1080 Samsung Hdmi Vga 4ms   </td></tr>\n",
              "\t<tr><th scope=row>3</th><td>Protector Pantalla Vidrio Templado iPad 7/8 Generación 10.2 </td></tr>\n",
              "\t<tr><th scope=row>4</th><td>Panel Protector De Pantalla De Bloqueo De Luz Azul Pc De Ojo</td></tr>\n",
              "\t<tr><th scope=row>5</th><td>Radio Carro Bluetooth + Camara Usb Sd Pantalla 7 Hd Mod 2020</td></tr>\n",
              "\t<tr><th scope=row>6</th><td>Monitor Pantalla Led Curvo 32'' Full Hd Hdmi 16:9 1920x 1080</td></tr>\n",
              "</tbody>\n",
              "</table>\n"
            ]
          },
          "metadata": {
            "tags": []
          }
        }
      ]
    }
  ]
}